{
 "cells": [
  {
   "cell_type": "code",
   "execution_count": 1,
   "id": "b5e740df",
   "metadata": {
    "_execution_state": "idle",
    "_uuid": "051d70d956493feee0c6d64651c6a088724dca2a",
    "execution": {
     "iopub.execute_input": "2022-04-24T09:05:21.547496Z",
     "iopub.status.busy": "2022-04-24T09:05:21.546542Z",
     "iopub.status.idle": "2022-04-24T09:05:22.262260Z",
     "shell.execute_reply": "2022-04-24T09:05:22.261343Z"
    },
    "papermill": {
     "duration": 0.73399,
     "end_time": "2022-04-24T09:05:22.264499",
     "exception": false,
     "start_time": "2022-04-24T09:05:21.530509",
     "status": "completed"
    },
    "tags": []
   },
   "outputs": [
    {
     "name": "stdout",
     "output_type": "stream",
     "text": [
      "ok!\n"
     ]
    }
   ],
   "source": [
    "# Importing libraries\n",
    "import warnings\n",
    "warnings.filterwarnings(\"ignore\", category=FutureWarning)\n",
    "from bs4 import BeautifulSoup\n",
    "import pandas as pd\n",
    "import os\n",
    "\n",
    "html_tables = {}\n",
    "\n",
    "# Looping through every table in the datasets folder...\n",
    "for table_name in os.listdir('../input/sentiments-dataset'):\n",
    "    table_path = f'../input/sentiments-dataset/{table_name}'\n",
    "    \n",
    "    # Opening file in read-only mode\n",
    "    table_file = open(table_path, 'r')\n",
    "    \n",
    "    html = BeautifulSoup(open(table_path, 'r'))\n",
    "    \n",
    "    # Finding 'news-table' loading it into 'html_table'\n",
    "    html_table = html.find(id='news-table')\n",
    "    \n",
    "    # Adding to dictionary\n",
    "    html_tables[table_name] = html_table   \n",
    "\n",
    "print('ok!')"
   ]
  },
  {
   "cell_type": "code",
   "execution_count": 2,
   "id": "622a0080",
   "metadata": {
    "execution": {
     "iopub.execute_input": "2022-04-24T09:05:22.293707Z",
     "iopub.status.busy": "2022-04-24T09:05:22.293419Z",
     "iopub.status.idle": "2022-04-24T09:05:22.303199Z",
     "shell.execute_reply": "2022-04-24T09:05:22.302138Z"
    },
    "papermill": {
     "duration": 0.027934,
     "end_time": "2022-04-24T09:05:22.306664",
     "exception": false,
     "start_time": "2022-04-24T09:05:22.278730",
     "status": "completed"
    },
    "tags": []
   },
   "outputs": [
    {
     "name": "stdout",
     "output_type": "stream",
     "text": [
      "0:\n",
      "Billionaire investor questions Elon Musk getting 'a pass' after bombshell tweets\n",
      "Sep-21-18 09:56PM  \n",
      "1:\n",
      "Broadcoms Stock Looks Like a Winner\n",
      "09:30PM  \n",
      "2:\n",
      "SHAREHOLDER ALERT:  Pomerantz Law Firm Reminds Shareholders with Losses on their Investment in Tesla, Inc. of Class Action Lawsuit and Upcoming Deadline  TSLA\n",
      "05:30PM  \n"
     ]
    }
   ],
   "source": [
    "# Reading headlines of a single day \n",
    "tsla = html_tables['tsla_22sep.html']\n",
    "\n",
    "# Getting all the rows tagged with <tr> into 'tesla_tr'\n",
    "tsla_tr = tsla.findAll('tr')\n",
    "\n",
    "# Looping through each row\n",
    "for i, table_row in enumerate(tsla_tr):\n",
    "    # Reading the text of the element 'a' into 'link_text'\n",
    "    link_text = table_row.a.get_text()\n",
    "    \n",
    "    # Reading the text of the element 'td' into 'data_text'\n",
    "    data_text = table_row.td.get_text()\n",
    "    \n",
    "    # Printing the count\n",
    "    print(f'{i}:')\n",
    "    \n",
    "    #Printing stored data\n",
    "    print(link_text)\n",
    "    print(data_text)\n",
    "    \n",
    "    # To display just 3 headlines\n",
    "    if i == 2:\n",
    "        break\n",
    "    "
   ]
  },
  {
   "cell_type": "code",
   "execution_count": 3,
   "id": "529a89d3",
   "metadata": {
    "execution": {
     "iopub.execute_input": "2022-04-24T09:05:22.337048Z",
     "iopub.status.busy": "2022-04-24T09:05:22.336765Z",
     "iopub.status.idle": "2022-04-24T09:05:22.374897Z",
     "shell.execute_reply": "2022-04-24T09:05:22.374077Z"
    },
    "papermill": {
     "duration": 0.056368,
     "end_time": "2022-04-24T09:05:22.377865",
     "exception": false,
     "start_time": "2022-04-24T09:05:22.321497",
     "status": "completed"
    },
    "tags": []
   },
   "outputs": [
    {
     "name": "stdout",
     "output_type": "stream",
     "text": [
      "[['fb', 'Jan-04-19', '06:22PM', 'Facebook, Apple, Netflix, Amazon and Alphabet Power Friday Gains'], ['fb', 'Jan-04-19', '05:15PM', 'Earnings Reports for the Week of Jan. 7-11 (BBBY, KBH)'], ['fb', 'Jan-04-19', '04:55PM', 'COLUMN-Commentary: 2019 will be the year of more state control'], ['fb', 'Jan-04-19', '04:53PM', '3 Tech Trends to Watch in 2019'], ['fb', 'Jan-04-19', '04:30PM', \"Will Denver's tech growth continue in 2019?\"], ['fb', 'Jan-04-19', '02:46PM', 'Facebook to Prioritize Video in 2019'], ['fb', 'Jan-04-19', '01:52PM', 'ScotteVest CEO: How a Facebook Passion Project Evolved into a New Business'], ['fb', 'Jan-04-19', '01:47PM', 'Millennials Load Up on Battered Apple, Facebook, GE'], ['fb', 'Jan-04-19', '01:00PM', 'FAANGs See a Weak Start to 2019: More Pain Ahead for ETFs?'], ['fb', 'Jan-04-19', '12:18PM', 'U[PDATE: Netflix shares soar 9% as Goldman adds stock to its Conviction List']]\n"
     ]
    }
   ],
   "source": [
    "# List to contain the parsed news\n",
    "parsed_news = []\n",
    "\n",
    "# Looping through the news\n",
    "for file_name, news_table in html_tables.items():\n",
    "    # Iterating through all tr tags in 'news_table'\n",
    "    for x in news_table.findAll('tr'):\n",
    "        \n",
    "        # Reading the tr tag's text into 'text'\n",
    "        text = x.get_text()\n",
    "\n",
    "        # Splitting the td tag's text into a list \n",
    "        date_scrape = x.td.text.split()\n",
    "        headline = x.a.text\n",
    "\n",
    "        # If the length of 'date_scrape' is 1, the only element present is 'time'\n",
    "        # Else, it contains 'data' and 'time' as first and second elements respectively\n",
    "        \n",
    "        if len(date_scrape) == 1:\n",
    "            time = date_scrape[0]\n",
    "            \n",
    "        else:\n",
    "            date = date_scrape[0]\n",
    "            time = date_scrape[1]\n",
    "        \n",
    "        # Extracting ticker from file name(everything till first '_') \n",
    "        ticker = file_name.split('_')[0]\n",
    "        \n",
    "        # Appending ticker, date, time and headline to the 'parsed_news' list\n",
    "        parsed_news.append([ticker, date, time, headline])\n",
    "\n",
    "print(parsed_news[:10])\n"
   ]
  },
  {
   "cell_type": "code",
   "execution_count": 4,
   "id": "e68beab7",
   "metadata": {
    "execution": {
     "iopub.execute_input": "2022-04-24T09:05:22.408238Z",
     "iopub.status.busy": "2022-04-24T09:05:22.407647Z",
     "iopub.status.idle": "2022-04-24T09:05:24.040784Z",
     "shell.execute_reply": "2022-04-24T09:05:24.039832Z"
    },
    "papermill": {
     "duration": 1.651447,
     "end_time": "2022-04-24T09:05:24.043584",
     "exception": false,
     "start_time": "2022-04-24T09:05:22.392137",
     "status": "completed"
    },
    "tags": []
   },
   "outputs": [
    {
     "name": "stdout",
     "output_type": "stream",
     "text": [
      "ok!\n"
     ]
    },
    {
     "name": "stderr",
     "output_type": "stream",
     "text": [
      "/opt/conda/lib/python3.7/site-packages/nltk/twitter/__init__.py:20: UserWarning: The twython library has not been installed. Some functionality from the twitter package will not be available.\n",
      "  warnings.warn(\"The twython library has not been installed. \"\n"
     ]
    }
   ],
   "source": [
    "from nltk.sentiment.vader import SentimentIntensityAnalyzer\n",
    "\n",
    "# New words and values\n",
    "new_words = {\n",
    "    'crushes': 10,\n",
    "    'beats': 5,\n",
    "    'misses': -5,\n",
    "    'trouble': -10,\n",
    "    'falls': -100,\n",
    "}\n",
    "\n",
    "# Instantiating with existing lexicon\n",
    "vader = SentimentIntensityAnalyzer()\n",
    "\n",
    "# Updating the lexicon\n",
    "vader.lexicon.update(new_words)\n",
    "\n",
    "print('ok!')"
   ]
  },
  {
   "cell_type": "code",
   "execution_count": 5,
   "id": "3625e7e8",
   "metadata": {
    "execution": {
     "iopub.execute_input": "2022-04-24T09:05:24.075927Z",
     "iopub.status.busy": "2022-04-24T09:05:24.075611Z",
     "iopub.status.idle": "2022-04-24T09:05:24.200793Z",
     "shell.execute_reply": "2022-04-24T09:05:24.200143Z"
    },
    "papermill": {
     "duration": 0.144301,
     "end_time": "2022-04-24T09:05:24.203179",
     "exception": false,
     "start_time": "2022-04-24T09:05:24.058878",
     "status": "completed"
    },
    "tags": []
   },
   "outputs": [
    {
     "name": "stdout",
     "output_type": "stream",
     "text": [
      "  ticker        date     time  \\\n",
      "0     fb  2019-01-04  06:22PM   \n",
      "1     fb  2019-01-04  05:15PM   \n",
      "2     fb  2019-01-04  04:55PM   \n",
      "3     fb  2019-01-04  04:53PM   \n",
      "4     fb  2019-01-04  04:30PM   \n",
      "\n",
      "                                            headline  neg    neu    pos  \\\n",
      "0  Facebook, Apple, Netflix, Amazon and Alphabet ...  0.0  0.631  0.369   \n",
      "1  Earnings Reports for the Week of Jan. 7-11 (BB...  0.0  1.000  0.000   \n",
      "2  COLUMN-Commentary: 2019 will be the year of mo...  0.0  1.000  0.000   \n",
      "3                     3 Tech Trends to Watch in 2019  0.0  1.000  0.000   \n",
      "4        Will Denver's tech growth continue in 2019?  0.0  0.698  0.302   \n",
      "\n",
      "   compound  \n",
      "0    0.4767  \n",
      "1    0.0000  \n",
      "2    0.0000  \n",
      "3    0.0000  \n",
      "4    0.3818  \n"
     ]
    }
   ],
   "source": [
    "columns = ['ticker', 'date', 'time', 'headline']\n",
    "\n",
    "# Converting the list into a DataFrame\n",
    "scored_news = pd.DataFrame(parsed_news, columns=columns)\n",
    "\n",
    "# polarity scores after iterating through headlines\n",
    "scores = scored_news['headline'].apply(vader.polarity_scores)\n",
    "\n",
    "# Converting the list of dictionaries into a DataFrame\n",
    "scores_df = pd.DataFrame.from_records(scores)\n",
    "\n",
    "# Joining the DataFrames\n",
    "scored_news = scored_news.join(scores_df)\n",
    "\n",
    "# Converting the date column from string to datetime\n",
    "scored_news['date'] = pd.to_datetime(scored_news.date).dt.date\n",
    "print(scored_news.head())"
   ]
  },
  {
   "cell_type": "code",
   "execution_count": 6,
   "id": "0d5cfa62",
   "metadata": {
    "execution": {
     "iopub.execute_input": "2022-04-24T09:05:24.236389Z",
     "iopub.status.busy": "2022-04-24T09:05:24.235512Z",
     "iopub.status.idle": "2022-04-24T09:05:24.857879Z",
     "shell.execute_reply": "2022-04-24T09:05:24.856275Z"
    },
    "papermill": {
     "duration": 0.641674,
     "end_time": "2022-04-24T09:05:24.860565",
     "exception": false,
     "start_time": "2022-04-24T09:05:24.218891",
     "status": "completed"
    },
    "tags": []
   },
   "outputs": [
    {
     "data": {
      "text/plain": [
       "<AxesSubplot:xlabel='date'>"
      ]
     },
     "execution_count": 6,
     "metadata": {},
     "output_type": "execute_result"
    },
    {
     "data": {
      "image/png": "[encoded data removed]",
      "text/plain": [
       "<Figure size 720x360 with 1 Axes>"
      ]
     },
     "metadata": {
      "needs_background": "light"
     },
     "output_type": "display_data"
    }
   ],
   "source": [
    "import matplotlib.pyplot as plt\n",
    "import seaborn as sns\n",
    "\n",
    "%matplotlib inline\n",
    "\n",
    "#calculating mean\n",
    "mean_c = scored_news.groupby(['date', 'ticker']).mean()\n",
    "\n",
    "# Unstack the ticker column\n",
    "mean_c = mean_c.unstack('ticker')\n",
    "mean_c = mean_c.xs('compound', axis='columns')\n",
    "\n",
    "mean_c.plot(kind='bar', figsize=(10,5), width=1)"
   ]
  },
  {
   "cell_type": "code",
   "execution_count": 7,
   "id": "1e2d407d",
   "metadata": {
    "execution": {
     "iopub.execute_input": "2022-04-24T09:05:24.897319Z",
     "iopub.status.busy": "2022-04-24T09:05:24.896472Z",
     "iopub.status.idle": "2022-04-24T09:05:24.906804Z",
     "shell.execute_reply": "2022-04-24T09:05:24.905816Z"
    },
    "papermill": {
     "duration": 0.030432,
     "end_time": "2022-04-24T09:05:24.908747",
     "exception": false,
     "start_time": "2022-04-24T09:05:24.878315",
     "status": "completed"
    },
    "tags": []
   },
   "outputs": [
    {
     "name": "stdout",
     "output_type": "stream",
     "text": [
      "Before we had 500 headlines, now we have 476\n"
     ]
    }
   ],
   "source": [
    "num_news_before = scored_news['headline'].count()\n",
    "\n",
    "# Dropping duplicates based on ticker and headline\n",
    "scored_news_clean = scored_news.drop_duplicates(subset=['ticker','headline'])\n",
    "\n",
    "num_news_after = scored_news_clean['headline'].count()\n",
    "                                                        \n",
    "# Print before and after counts \n",
    "print(f\"Before we had {num_news_before} headlines, now we have {num_news_after}\")"
   ]
  },
  {
   "cell_type": "code",
   "execution_count": 8,
   "id": "2084f991",
   "metadata": {
    "execution": {
     "iopub.execute_input": "2022-04-24T09:05:24.945349Z",
     "iopub.status.busy": "2022-04-24T09:05:24.944812Z",
     "iopub.status.idle": "2022-04-24T09:05:24.967182Z",
     "shell.execute_reply": "2022-04-24T09:05:24.966324Z"
    },
    "papermill": {
     "duration": 0.043155,
     "end_time": "2022-04-24T09:05:24.969223",
     "exception": false,
     "start_time": "2022-04-24T09:05:24.926068",
     "status": "completed"
    },
    "tags": []
   },
   "outputs": [
    {
     "data": {
      "text/html": [
       "<div>\n",
       "<style scoped>\n",
       "    .dataframe tbody tr th:only-of-type {\n",
       "        vertical-align: middle;\n",
       "    }\n",
       "\n",
       "    .dataframe tbody tr th {\n",
       "        vertical-align: top;\n",
       "    }\n",
       "\n",
       "    .dataframe thead th {\n",
       "        text-align: right;\n",
       "    }\n",
       "</style>\n",
       "<table border=\"1\" class=\"dataframe\">\n",
       "  <thead>\n",
       "    <tr style=\"text-align: right;\">\n",
       "      <th></th>\n",
       "      <th>time</th>\n",
       "      <th>headline</th>\n",
       "      <th>neg</th>\n",
       "      <th>neu</th>\n",
       "      <th>pos</th>\n",
       "      <th>compound</th>\n",
       "    </tr>\n",
       "    <tr>\n",
       "      <th>date</th>\n",
       "      <th></th>\n",
       "      <th></th>\n",
       "      <th></th>\n",
       "      <th></th>\n",
       "      <th></th>\n",
       "      <th></th>\n",
       "    </tr>\n",
       "  </thead>\n",
       "  <tbody>\n",
       "    <tr>\n",
       "      <th>2019-01-04</th>\n",
       "      <td>06:22PM</td>\n",
       "      <td>Facebook, Apple, Netflix, Amazon and Alphabet ...</td>\n",
       "      <td>0.000</td>\n",
       "      <td>0.631</td>\n",
       "      <td>0.369</td>\n",
       "      <td>0.4767</td>\n",
       "    </tr>\n",
       "    <tr>\n",
       "      <th>2019-01-04</th>\n",
       "      <td>05:15PM</td>\n",
       "      <td>Earnings Reports for the Week of Jan. 7-11 (BB...</td>\n",
       "      <td>0.000</td>\n",
       "      <td>1.000</td>\n",
       "      <td>0.000</td>\n",
       "      <td>0.0000</td>\n",
       "    </tr>\n",
       "    <tr>\n",
       "      <th>2019-01-04</th>\n",
       "      <td>04:55PM</td>\n",
       "      <td>COLUMN-Commentary: 2019 will be the year of mo...</td>\n",
       "      <td>0.000</td>\n",
       "      <td>1.000</td>\n",
       "      <td>0.000</td>\n",
       "      <td>0.0000</td>\n",
       "    </tr>\n",
       "    <tr>\n",
       "      <th>2019-01-04</th>\n",
       "      <td>04:53PM</td>\n",
       "      <td>3 Tech Trends to Watch in 2019</td>\n",
       "      <td>0.000</td>\n",
       "      <td>1.000</td>\n",
       "      <td>0.000</td>\n",
       "      <td>0.0000</td>\n",
       "    </tr>\n",
       "    <tr>\n",
       "      <th>2019-01-04</th>\n",
       "      <td>04:30PM</td>\n",
       "      <td>Will Denver's tech growth continue in 2019?</td>\n",
       "      <td>0.000</td>\n",
       "      <td>0.698</td>\n",
       "      <td>0.302</td>\n",
       "      <td>0.3818</td>\n",
       "    </tr>\n",
       "    <tr>\n",
       "      <th>...</th>\n",
       "      <td>...</td>\n",
       "      <td>...</td>\n",
       "      <td>...</td>\n",
       "      <td>...</td>\n",
       "      <td>...</td>\n",
       "      <td>...</td>\n",
       "    </tr>\n",
       "    <tr>\n",
       "      <th>2018-09-18</th>\n",
       "      <td>01:40PM</td>\n",
       "      <td>The Tesla of China &amp; the Facebook-Macy's Conne...</td>\n",
       "      <td>0.000</td>\n",
       "      <td>0.708</td>\n",
       "      <td>0.292</td>\n",
       "      <td>0.5106</td>\n",
       "    </tr>\n",
       "    <tr>\n",
       "      <th>2018-09-18</th>\n",
       "      <td>01:24PM</td>\n",
       "      <td>Facebook Can't Settle One Ad Bias Claim, Gets ...</td>\n",
       "      <td>0.123</td>\n",
       "      <td>0.877</td>\n",
       "      <td>0.000</td>\n",
       "      <td>-0.1027</td>\n",
       "    </tr>\n",
       "    <tr>\n",
       "      <th>2018-09-18</th>\n",
       "      <td>01:24PM</td>\n",
       "      <td>Facebook Can't Settle an Ad Bias Claim, Draws ...</td>\n",
       "      <td>0.310</td>\n",
       "      <td>0.690</td>\n",
       "      <td>0.000</td>\n",
       "      <td>-0.3818</td>\n",
       "    </tr>\n",
       "    <tr>\n",
       "      <th>2018-09-18</th>\n",
       "      <td>01:00PM</td>\n",
       "      <td>CLASS ACTION UPDATE for TSLA, RMTI and FB: Lev...</td>\n",
       "      <td>0.000</td>\n",
       "      <td>1.000</td>\n",
       "      <td>0.000</td>\n",
       "      <td>0.0000</td>\n",
       "    </tr>\n",
       "    <tr>\n",
       "      <th>2018-09-18</th>\n",
       "      <td>12:50PM</td>\n",
       "      <td>Facebook Is Facing a Legal Battle with ACLU &amp; CWA</td>\n",
       "      <td>0.257</td>\n",
       "      <td>0.594</td>\n",
       "      <td>0.149</td>\n",
       "      <td>-0.2732</td>\n",
       "    </tr>\n",
       "  </tbody>\n",
       "</table>\n",
       "<p>190 rows × 6 columns</p>\n",
       "</div>"
      ],
      "text/plain": [
       "               time                                           headline    neg  \\\n",
       "date                                                                            \n",
       "2019-01-04  06:22PM  Facebook, Apple, Netflix, Amazon and Alphabet ...  0.000   \n",
       "2019-01-04  05:15PM  Earnings Reports for the Week of Jan. 7-11 (BB...  0.000   \n",
       "2019-01-04  04:55PM  COLUMN-Commentary: 2019 will be the year of mo...  0.000   \n",
       "2019-01-04  04:53PM                     3 Tech Trends to Watch in 2019  0.000   \n",
       "2019-01-04  04:30PM        Will Denver's tech growth continue in 2019?  0.000   \n",
       "...             ...                                                ...    ...   \n",
       "2018-09-18  01:40PM  The Tesla of China & the Facebook-Macy's Conne...  0.000   \n",
       "2018-09-18  01:24PM  Facebook Can't Settle One Ad Bias Claim, Gets ...  0.123   \n",
       "2018-09-18  01:24PM  Facebook Can't Settle an Ad Bias Claim, Draws ...  0.310   \n",
       "2018-09-18  01:00PM  CLASS ACTION UPDATE for TSLA, RMTI and FB: Lev...  0.000   \n",
       "2018-09-18  12:50PM  Facebook Is Facing a Legal Battle with ACLU & CWA  0.257   \n",
       "\n",
       "              neu    pos  compound  \n",
       "date                                \n",
       "2019-01-04  0.631  0.369    0.4767  \n",
       "2019-01-04  1.000  0.000    0.0000  \n",
       "2019-01-04  1.000  0.000    0.0000  \n",
       "2019-01-04  1.000  0.000    0.0000  \n",
       "2019-01-04  0.698  0.302    0.3818  \n",
       "...           ...    ...       ...  \n",
       "2018-09-18  0.708  0.292    0.5106  \n",
       "2018-09-18  0.877  0.000   -0.1027  \n",
       "2018-09-18  0.690  0.000   -0.3818  \n",
       "2018-09-18  1.000  0.000    0.0000  \n",
       "2018-09-18  0.594  0.149   -0.2732  \n",
       "\n",
       "[190 rows x 6 columns]"
      ]
     },
     "execution_count": 8,
     "metadata": {},
     "output_type": "execute_result"
    }
   ],
   "source": [
    "scored_news_clean.set_index([\"ticker\", \"date\"]).xs(\"fb\")"
   ]
  },
  {
   "cell_type": "code",
   "execution_count": 9,
   "id": "3891b955",
   "metadata": {
    "execution": {
     "iopub.execute_input": "2022-04-24T09:05:25.006687Z",
     "iopub.status.busy": "2022-04-24T09:05:25.006369Z",
     "iopub.status.idle": "2022-04-24T09:05:25.017876Z",
     "shell.execute_reply": "2022-04-24T09:05:25.017029Z"
    },
    "papermill": {
     "duration": 0.032527,
     "end_time": "2022-04-24T09:05:25.019730",
     "exception": false,
     "start_time": "2022-04-24T09:05:24.987203",
     "status": "completed"
    },
    "tags": []
   },
   "outputs": [
    {
     "data": {
      "text/plain": [
       "Index([2019-01-04, 2019-01-04, 2019-01-04, 2019-01-04, 2019-01-04, 2019-01-04,\n",
       "       2019-01-04, 2019-01-04, 2019-01-04, 2019-01-04,\n",
       "       ...\n",
       "       2018-09-18, 2018-09-18, 2018-09-18, 2018-09-18, 2018-09-18, 2018-09-18,\n",
       "       2018-09-18, 2018-09-18, 2018-09-18, 2018-09-18],\n",
       "      dtype='object', name='date', length=190)"
      ]
     },
     "execution_count": 9,
     "metadata": {},
     "output_type": "execute_result"
    }
   ],
   "source": [
    "scored_news_clean.set_index([\"ticker\", \"date\"]).xs(\"fb\").index"
   ]
  },
  {
   "cell_type": "code",
   "execution_count": 10,
   "id": "b05c3cc2",
   "metadata": {
    "execution": {
     "iopub.execute_input": "2022-04-24T09:05:25.058213Z",
     "iopub.status.busy": "2022-04-24T09:05:25.057912Z",
     "iopub.status.idle": "2022-04-24T09:05:25.081131Z",
     "shell.execute_reply": "2022-04-24T09:05:25.080236Z"
    },
    "papermill": {
     "duration": 0.045297,
     "end_time": "2022-04-24T09:05:25.083449",
     "exception": false,
     "start_time": "2022-04-24T09:05:25.038152",
     "status": "completed"
    },
    "tags": []
   },
   "outputs": [
    {
     "name": "stderr",
     "output_type": "stream",
     "text": [
      "/opt/conda/lib/python3.7/site-packages/pandas/core/indexing.py:1773: SettingWithCopyWarning: \n",
      "A value is trying to be set on a copy of a slice from a DataFrame.\n",
      "Try using .loc[row_indexer,col_indexer] = value instead\n",
      "\n",
      "See the caveats in the documentation: https://pandas.pydata.org/pandas-docs/stable/user_guide/indexing.html#returning-a-view-versus-a-copy\n",
      "  self._setitem_single_column(ilocs[0], value, pi)\n"
     ]
    }
   ],
   "source": [
    "scored_news_clean.loc[:, \"date\"] = pd.to_datetime(scored_news.loc[:, \"date\"])\n",
    "\n",
    "single_day = scored_news_clean.set_index(['ticker', 'date'])\n",
    "\n",
    "# Cross-section the fb row\n",
    "single_day = single_day.xs('fb')\n",
    "\n",
    "# Selecting the 3rd of January of 2019\n",
    "single_day = single_day['2019-01-3']\n",
    "\n",
    "# Converting the datetime string to just the time\n",
    "single_day['time'] = pd.to_datetime(single_day['time']).dt.time\n",
    "\n",
    "single_day = single_day.set_index('time')\n",
    "\n",
    "# Sorting\n",
    "single_day = single_day.sort_index()"
   ]
  },
  {
   "cell_type": "code",
   "execution_count": 11,
   "id": "c45cb428",
   "metadata": {
    "execution": {
     "iopub.execute_input": "2022-04-24T09:05:25.122490Z",
     "iopub.status.busy": "2022-04-24T09:05:25.122172Z",
     "iopub.status.idle": "2022-04-24T09:05:25.576722Z",
     "shell.execute_reply": "2022-04-24T09:05:25.575893Z"
    },
    "papermill": {
     "duration": 0.476661,
     "end_time": "2022-04-24T09:05:25.578869",
     "exception": false,
     "start_time": "2022-04-24T09:05:25.102208",
     "status": "completed"
    },
    "tags": []
   },
   "outputs": [
    {
     "data": {
      "text/plain": [
       "<AxesSubplot:xlabel='time'>"
      ]
     },
     "execution_count": 11,
     "metadata": {},
     "output_type": "execute_result"
    },
    {
     "data": {
      "image/png": "[encoded data removed]",
      "text/plain": [
       "<Figure size 720x360 with 1 Axes>"
      ]
     },
     "metadata": {
      "needs_background": "light"
     },
     "output_type": "display_data"
    }
   ],
   "source": [
    "TITLE = \"Positive, negative and neutral sentiment for FB on 2019-01-03\"\n",
    "COLORS = [\"red\", \"orange\", \"green\"]\n",
    "\n",
    "# Dropping some columns\n",
    "plot_day = single_day.drop(['headline', 'compound'], axis=1)\n",
    "\n",
    "# Changing the column names to 'negative', 'positive', and 'neutral'\n",
    "plot_day.columns = ['negative', 'positive', 'neutral']\n",
    "\n",
    "plot_day.plot(kind='bar', color=COLORS, figsize=(10,5), width=1)"
   ]
  },
  {
   "cell_type": "code",
   "execution_count": null,
   "id": "089c8857",
   "metadata": {
    "papermill": {
     "duration": 0.019484,
     "end_time": "2022-04-24T09:05:25.618258",
     "exception": false,
     "start_time": "2022-04-24T09:05:25.598774",
     "status": "completed"
    },
    "tags": []
   },
   "outputs": [],
   "source": []
  }
 ],
 "metadata": {
  "kernelspec": {
   "display_name": "Python 3",
   "language": "python",
   "name": "python3"
  },
  "language_info": {
   "codemirror_mode": {
    "name": "ipython",
    "version": 3
   },
   "file_extension": ".py",
   "mimetype": "text/x-python",
   "name": "python",
   "nbconvert_exporter": "python",
   "pygments_lexer": "ipython3",
   "version": "3.7.12"
  },
  "papermill": {
   "default_parameters": {},
   "duration": 14.540924,
   "end_time": "2022-04-24T09:05:26.459600",
   "environment_variables": {},
   "exception": null,
   "input_path": "__notebook__.ipynb",
   "output_path": "__notebook__.ipynb",
   "parameters": {},
   "start_time": "2022-04-24T09:05:11.918676",
   "version": "2.3.4"
  }
 },
 "nbformat": 4,
 "nbformat_minor": 5
}
